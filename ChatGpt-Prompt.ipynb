{
 "cells": [
  {
   "cell_type": "markdown",
   "id": "a777cbb0",
   "metadata": {},
   "source": [
    "<h1>1 Setup</h1>"
   ]
  },
  {
   "cell_type": "markdown",
   "id": "007b6973",
   "metadata": {},
   "source": [
    "<h2>  Load Open AI Libs</h2>"
   ]
  },
  {
   "cell_type": "code",
   "execution_count": 18,
   "id": "96866b3e",
   "metadata": {},
   "outputs": [],
   "source": [
    "import openai"
   ]
  },
  {
   "cell_type": "code",
   "execution_count": 19,
   "id": "2a4997a5",
   "metadata": {},
   "outputs": [],
   "source": [
    "import os"
   ]
  },
  {
   "cell_type": "code",
   "execution_count": 20,
   "id": "cfccc82b",
   "metadata": {},
   "outputs": [
    {
     "ename": "SyntaxError",
     "evalue": "invalid syntax (<ipython-input-20-7284c1fb3506>, line 1)",
     "output_type": "error",
     "traceback": [
      "\u001b[0;36m  File \u001b[0;32m\"<ipython-input-20-7284c1fb3506>\"\u001b[0;36m, line \u001b[0;32m1\u001b[0m\n\u001b[0;31m    from dotenv import load_dotenv, find_dotenv_ = load_dotenv(find_dotenv())\u001b[0m\n\u001b[0m                                                 ^\u001b[0m\n\u001b[0;31mSyntaxError\u001b[0m\u001b[0;31m:\u001b[0m invalid syntax\n"
     ]
    }
   ],
   "source": [
    "from dotenv import load_dotenv, find_dotenv_ = load_dotenv(find_dotenv())"
   ]
  },
  {
   "cell_type": "markdown",
   "id": "afaa73de",
   "metadata": {},
   "source": []
  }
 ],
 "metadata": {
  "kernelspec": {
   "display_name": "Python 3",
   "language": "python",
   "name": "python3"
  },
  "language_info": {
   "codemirror_mode": {
    "name": "ipython",
    "version": 3
   },
   "file_extension": ".py",
   "mimetype": "text/x-python",
   "name": "python",
   "nbconvert_exporter": "python",
   "pygments_lexer": "ipython3",
   "version": "3.8.3"
  }
 },
 "nbformat": 4,
 "nbformat_minor": 5
}
